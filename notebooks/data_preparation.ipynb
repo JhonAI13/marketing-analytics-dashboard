{
 "cells": [
  {
   "cell_type": "code",
   "execution_count": 1,
   "id": "dce31884",
   "metadata": {},
   "outputs": [],
   "source": [
    "import pandas as pd\n",
    "import numpy as np\n",
    "import matplotlib.pyplot as plt\n",
    "import seaborn as sns"
   ]
  },
  {
   "cell_type": "code",
   "execution_count": 2,
   "id": "af83e5e5",
   "metadata": {},
   "outputs": [],
   "source": [
    "df_cost = pd.read_csv('../data/raw_data/costs_us.csv')\n",
    "df_orders = pd.read_csv('../data/raw_data/orders_log_us.csv')\n",
    "df_visits = pd.read_csv('../data/raw_data/visits_log_us.csv')"
   ]
  },
  {
   "cell_type": "markdown",
   "id": "3a577d83",
   "metadata": {},
   "source": [
    "\n",
    "### Descrição dos Dados\n",
    "\n",
    "O projeto utiliza três fontes de dados para analisar a performance de marketing:\n",
    "\n",
    "*   **Tabela `visits` (Logs de Acesso):**\n",
    "    *   `Uid`: ID do usuário\n",
    "    *   `Device`: Dispositivo (desktop/touch)\n",
    "    *   `Start Ts`: Início da sessão (data/hora)\n",
    "    *   `End Ts`: Fim da sessão (data/hora)\n",
    "    *   `Source Id`: ID da fonte de tráfego\n",
    "\n",
    "*   **Tabela `orders` (Dados de Pedidos):**\n",
    "    *   `Uid`: ID do usuário\n",
    "    *   `Buy Ts`: Data e hora do pedido\n",
    "    *   `Revenue`: Receita do pedido\n",
    "\n",
    "*   **Tabela `costs` (Custos de Marketing):**\n",
    "    *   `source_id`: ID da fonte de anúncio\n",
    "    *   `dt`: Data do gasto\n",
    "    *   `costs`: Valor gasto"
   ]
  },
  {
   "cell_type": "code",
   "execution_count": 3,
   "id": "c3721bdb",
   "metadata": {},
   "outputs": [
    {
     "name": "stdout",
     "output_type": "stream",
     "text": [
      "<class 'pandas.core.frame.DataFrame'>\n",
      "RangeIndex: 2542 entries, 0 to 2541\n",
      "Data columns (total 3 columns):\n",
      " #   Column     Non-Null Count  Dtype  \n",
      "---  ------     --------------  -----  \n",
      " 0   source_id  2542 non-null   int64  \n",
      " 1   dt         2542 non-null   object \n",
      " 2   costs      2542 non-null   float64\n",
      "dtypes: float64(1), int64(1), object(1)\n",
      "memory usage: 59.7+ KB\n"
     ]
    }
   ],
   "source": [
    "df_cost.info()"
   ]
  },
  {
   "cell_type": "code",
   "execution_count": 4,
   "id": "fb693627",
   "metadata": {},
   "outputs": [
    {
     "name": "stdout",
     "output_type": "stream",
     "text": [
      "<class 'pandas.core.frame.DataFrame'>\n",
      "RangeIndex: 50415 entries, 0 to 50414\n",
      "Data columns (total 3 columns):\n",
      " #   Column   Non-Null Count  Dtype  \n",
      "---  ------   --------------  -----  \n",
      " 0   Buy Ts   50415 non-null  object \n",
      " 1   Revenue  50415 non-null  float64\n",
      " 2   Uid      50415 non-null  uint64 \n",
      "dtypes: float64(1), object(1), uint64(1)\n",
      "memory usage: 1.2+ MB\n"
     ]
    }
   ],
   "source": [
    "df_orders.info()"
   ]
  },
  {
   "cell_type": "code",
   "execution_count": 5,
   "id": "b6cee340",
   "metadata": {},
   "outputs": [
    {
     "name": "stdout",
     "output_type": "stream",
     "text": [
      "<class 'pandas.core.frame.DataFrame'>\n",
      "RangeIndex: 359400 entries, 0 to 359399\n",
      "Data columns (total 5 columns):\n",
      " #   Column     Non-Null Count   Dtype \n",
      "---  ------     --------------   ----- \n",
      " 0   Device     359400 non-null  object\n",
      " 1   End Ts     359400 non-null  object\n",
      " 2   Source Id  359400 non-null  int64 \n",
      " 3   Start Ts   359400 non-null  object\n",
      " 4   Uid        359400 non-null  uint64\n",
      "dtypes: int64(1), object(3), uint64(1)\n",
      "memory usage: 13.7+ MB\n"
     ]
    }
   ],
   "source": [
    "df_visits.info()"
   ]
  },
  {
   "cell_type": "code",
   "execution_count": 6,
   "id": "0e63e5d1",
   "metadata": {},
   "outputs": [],
   "source": [
    "# Renomeando as colunas\n",
    "df_cost.rename(columns={'source_id': 'id', 'dt': 'date', 'costs': 'cost'}, inplace=True)\n",
    "df_orders.rename(columns={'Uid': 'uid', 'Buy Ts': 'buy_date', 'Revenue': 'revenue'}, inplace=True)\n",
    "df_visits.rename(columns={'Uid': 'uid', 'Device': 'device', 'Start Ts': 'start_date', 'End Ts': 'end_date', 'Source Id': 'id'}, inplace=True)"
   ]
  },
  {
   "cell_type": "code",
   "execution_count": 7,
   "id": "d7ef246b",
   "metadata": {},
   "outputs": [],
   "source": [
    "# Adequação dos tipos \n",
    "\n",
    "# df_cost\n",
    "# Convertendo a coluna 'date' para datetime\n",
    "df_cost['date'] = pd.to_datetime(df_cost['date'])\n",
    "\n",
    "# df_orders\n",
    "# Convertendo a coluna 'buy_date' para datetime\n",
    "df_orders['buy_date'] = pd.to_datetime(df_orders['buy_date'])\n",
    "\n",
    "# df_visits\n",
    "# Convertendo as colunas de data para datetime\n",
    "df_visits['start_date'] = pd.to_datetime(df_visits['start_date'])\n",
    "df_visits['end_date'] = pd.to_datetime(df_visits['end_date'])\n",
    "\n",
    "# Convertendo a coluna 'device' para category\n",
    "df_visits['device'] = df_visits['device'].astype('category')"
   ]
  },
  {
   "cell_type": "code",
   "execution_count": 8,
   "id": "b56f7671",
   "metadata": {},
   "outputs": [
    {
     "name": "stdout",
     "output_type": "stream",
     "text": [
      "Valores Nulos em df_cost:\n",
      "id      0\n",
      "date    0\n",
      "cost    0\n",
      "dtype: int64\n",
      "\n",
      "Valores Nulos em df_orders:\n",
      "buy_date    0\n",
      "revenue     0\n",
      "uid         0\n",
      "dtype: int64\n",
      "\n",
      "Valores Nulos em df_visits:\n",
      "device        0\n",
      "end_date      0\n",
      "id            0\n",
      "start_date    0\n",
      "uid           0\n",
      "dtype: int64\n"
     ]
    }
   ],
   "source": [
    "# Verificação de Nulos \n",
    "print(\"Valores Nulos em df_cost:\")\n",
    "print(df_cost.isnull().sum())\n",
    "print(\"\\nValores Nulos em df_orders:\")\n",
    "print(df_orders.isnull().sum())\n",
    "print(\"\\nValores Nulos em df_visits:\")\n",
    "print(df_visits.isnull().sum())\n"
   ]
  },
  {
   "cell_type": "code",
   "execution_count": 12,
   "id": "2d1adc60",
   "metadata": {},
   "outputs": [
    {
     "data": {
      "text/plain": [
       "[None, None, None]"
      ]
     },
     "execution_count": 12,
     "metadata": {},
     "output_type": "execute_result"
    }
   ],
   "source": [
    "[df.to_csv(f'../data/processed_data/{name}.csv', index=False) for name, df in zip(['costs', 'orders', 'visits'], [df_cost, df_orders, df_visits])]"
   ]
  },
  {
   "cell_type": "markdown",
   "id": "ad9a6115",
   "metadata": {},
   "source": [
    "\n",
    "### Processamento e Limpeza dos Dados\n",
    "\n",
    "Nesta fase inicial, os dados brutos foram preparados para a análise, garantindo sua qualidade e consistência. O processo foi dividido em três etapas principais:\n",
    "\n",
    "**1. Carga dos Dados:**\n",
    "*   Foram carregados três arquivos CSV: `visits_log_us.csv`, `orders_log_us.csv` e `costs_us.csv`, utilizando a biblioteca Pandas.\n",
    "\n",
    "**2. Limpeza e Adequação:**\n",
    "*   **Renomeação das Colunas:** Os nomes das colunas foram padronizados para facilitar o acesso e a manipulação (ex: `Uid` para `uid`, `Start Ts` para `start_date`).\n",
    "*   **Ajuste de Tipos:** Todas as colunas contendo datas e horas foram convertidas para o formato `datetime`, permitindo análises temporais precisas.\n",
    "*   **Otimização:** A coluna `device` foi convertida para o tipo `category` para otimizar o uso de memória.\n",
    "\n",
    "**3. Validação dos Dados:**\n",
    "*   **Verificação de Nulos e Duplicatas:** Foi realizada uma checagem final para confirmar a ausência de valores nulos ou linhas duplicadas em todos os conjuntos de dados. O resultado confirmou que os dados estão completos e íntegros.\n"
   ]
  },
  {
   "cell_type": "code",
   "execution_count": null,
   "id": "19cd5141",
   "metadata": {},
   "outputs": [],
   "source": []
  },
  {
   "cell_type": "code",
   "execution_count": null,
   "id": "007a07c2",
   "metadata": {},
   "outputs": [
    {
     "ename": "NameError",
     "evalue": "name 'df_final' is not defined",
     "output_type": "error",
     "traceback": [
      "\u001b[1;31m---------------------------------------------------------------------------\u001b[0m",
      "\u001b[1;31mNameError\u001b[0m                                 Traceback (most recent call last)",
      "Cell \u001b[1;32mIn[9], line 2\u001b[0m\n\u001b[0;32m      1\u001b[0m \u001b[38;5;66;03m# Salvando dados\u001b[39;00m\n\u001b[1;32m----> 2\u001b[0m df_final\u001b[38;5;241m.\u001b[39mto_csv(\u001b[38;5;124m'\u001b[39m\u001b[38;5;124m../data/processed_data/dados_finais_processados.csv\u001b[39m\u001b[38;5;124m'\u001b[39m, index\u001b[38;5;241m=\u001b[39m\u001b[38;5;28;01mFalse\u001b[39;00m)\n",
      "\u001b[1;31mNameError\u001b[0m: name 'df_final' is not defined"
     ]
    }
   ],
   "source": [
    "# Salvando dados\n",
    "df_final.to_csv('.' \\\n",
    "                \n",
    "                dados_finais_processados.csv', index=False)"
   ]
  },
  {
   "cell_type": "code",
   "execution_count": null,
   "id": "0dcc186a",
   "metadata": {},
   "outputs": [
    {
     "name": "stdout",
     "output_type": "stream",
     "text": [
      "Arquivos 'orders_cleaned.csv' e 'costs_cleaned.csv' criados com sucesso.\n",
      "Tamanho da tabela de pedidos: (50415, 4)\n",
      "Tamanho da tabela de custos: (12, 2)\n"
     ]
    }
   ],
   "source": []
  }
 ],
 "metadata": {
  "kernelspec": {
   "display_name": "base",
   "language": "python",
   "name": "python3"
  },
  "language_info": {
   "codemirror_mode": {
    "name": "ipython",
    "version": 3
   },
   "file_extension": ".py",
   "mimetype": "text/x-python",
   "name": "python",
   "nbconvert_exporter": "python",
   "pygments_lexer": "ipython3",
   "version": "3.12.7"
  }
 },
 "nbformat": 4,
 "nbformat_minor": 5
}
