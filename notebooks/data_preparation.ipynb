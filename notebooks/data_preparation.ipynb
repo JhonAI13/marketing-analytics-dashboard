{
 "cells": [
  {
   "cell_type": "code",
   "execution_count": 14,
   "id": "dce31884",
   "metadata": {},
   "outputs": [],
   "source": [
    "import pandas as pd\n",
    "import numpy as np\n",
    "import matplotlib.pyplot as plt\n",
    "import seaborn as sns"
   ]
  },
  {
   "cell_type": "code",
   "execution_count": 15,
   "id": "af83e5e5",
   "metadata": {},
   "outputs": [],
   "source": [
    "df_cost = pd.read_csv('../data/raw_data/costs_us.csv')\n",
    "df_orders = pd.read_csv('../data/raw_data/orders_log_us.csv')\n",
    "df_visits = pd.read_csv('../data/raw_data/visits_log_us.csv')"
   ]
  },
  {
   "cell_type": "markdown",
   "id": "3a577d83",
   "metadata": {},
   "source": [
    "\n",
    "### Descrição dos Dados\n",
    "\n",
    "O projeto utiliza três fontes de dados para analisar a performance de marketing:\n",
    "\n",
    "*   **Tabela `visits` (Logs de Acesso):**\n",
    "    *   `Uid`: ID do usuário\n",
    "    *   `Device`: Dispositivo (desktop/touch)\n",
    "    *   `Start Ts`: Início da sessão (data/hora)\n",
    "    *   `End Ts`: Fim da sessão (data/hora)\n",
    "    *   `Source Id`: ID da fonte de tráfego\n",
    "\n",
    "*   **Tabela `orders` (Dados de Pedidos):**\n",
    "    *   `Uid`: ID do usuário\n",
    "    *   `Buy Ts`: Data e hora do pedido\n",
    "    *   `Revenue`: Receita do pedido\n",
    "\n",
    "*   **Tabela `costs` (Custos de Marketing):**\n",
    "    *   `source_id`: ID da fonte de anúncio\n",
    "    *   `dt`: Data do gasto\n",
    "    *   `costs`: Valor gasto"
   ]
  },
  {
   "cell_type": "code",
   "execution_count": 16,
   "id": "c3721bdb",
   "metadata": {},
   "outputs": [
    {
     "name": "stdout",
     "output_type": "stream",
     "text": [
      "<class 'pandas.core.frame.DataFrame'>\n",
      "RangeIndex: 2542 entries, 0 to 2541\n",
      "Data columns (total 3 columns):\n",
      " #   Column     Non-Null Count  Dtype  \n",
      "---  ------     --------------  -----  \n",
      " 0   source_id  2542 non-null   int64  \n",
      " 1   dt         2542 non-null   object \n",
      " 2   costs      2542 non-null   float64\n",
      "dtypes: float64(1), int64(1), object(1)\n",
      "memory usage: 59.7+ KB\n"
     ]
    }
   ],
   "source": [
    "df_cost.info()"
   ]
  },
  {
   "cell_type": "code",
   "execution_count": 17,
   "id": "fb693627",
   "metadata": {},
   "outputs": [
    {
     "name": "stdout",
     "output_type": "stream",
     "text": [
      "<class 'pandas.core.frame.DataFrame'>\n",
      "RangeIndex: 50415 entries, 0 to 50414\n",
      "Data columns (total 3 columns):\n",
      " #   Column   Non-Null Count  Dtype  \n",
      "---  ------   --------------  -----  \n",
      " 0   Buy Ts   50415 non-null  object \n",
      " 1   Revenue  50415 non-null  float64\n",
      " 2   Uid      50415 non-null  uint64 \n",
      "dtypes: float64(1), object(1), uint64(1)\n",
      "memory usage: 1.2+ MB\n"
     ]
    }
   ],
   "source": [
    "df_orders.info()"
   ]
  },
  {
   "cell_type": "code",
   "execution_count": 18,
   "id": "b6cee340",
   "metadata": {},
   "outputs": [
    {
     "name": "stdout",
     "output_type": "stream",
     "text": [
      "<class 'pandas.core.frame.DataFrame'>\n",
      "RangeIndex: 359400 entries, 0 to 359399\n",
      "Data columns (total 5 columns):\n",
      " #   Column     Non-Null Count   Dtype \n",
      "---  ------     --------------   ----- \n",
      " 0   Device     359400 non-null  object\n",
      " 1   End Ts     359400 non-null  object\n",
      " 2   Source Id  359400 non-null  int64 \n",
      " 3   Start Ts   359400 non-null  object\n",
      " 4   Uid        359400 non-null  uint64\n",
      "dtypes: int64(1), object(3), uint64(1)\n",
      "memory usage: 13.7+ MB\n"
     ]
    }
   ],
   "source": [
    "df_visits.info()"
   ]
  },
  {
   "cell_type": "code",
   "execution_count": 19,
   "id": "0e63e5d1",
   "metadata": {},
   "outputs": [],
   "source": [
    "# Renomeando as colunas\n",
    "df_cost.rename(columns={'source_id': 'id', 'dt': 'date', 'costs': 'cost'}, inplace=True)\n",
    "df_orders.rename(columns={'Uid': 'uid', 'Buy Ts': 'buy_date', 'Revenue': 'revenue'}, inplace=True)\n",
    "df_visits.rename(columns={'Uid': 'uid', 'Device': 'device', 'Start Ts': 'start_date', 'End Ts': 'end_date', 'Source Id': 'id'}, inplace=True)"
   ]
  },
  {
   "cell_type": "code",
   "execution_count": 20,
   "id": "d7ef246b",
   "metadata": {},
   "outputs": [],
   "source": [
    "# Adequação dos tipos \n",
    "\n",
    "# df_cost\n",
    "# Convertendo a coluna 'date' para datetime\n",
    "df_cost['date'] = pd.to_datetime(df_cost['date'])\n",
    "\n",
    "# df_orders\n",
    "# Convertendo a coluna 'buy_date' para datetime\n",
    "df_orders['buy_date'] = pd.to_datetime(df_orders['buy_date'])\n",
    "\n",
    "# df_visits\n",
    "# Convertendo as colunas de data para datetime\n",
    "df_visits['start_date'] = pd.to_datetime(df_visits['start_date'])\n",
    "df_visits['end_date'] = pd.to_datetime(df_visits['end_date'])\n",
    "\n",
    "# Convertendo a coluna 'device' para category\n",
    "df_visits['device'] = df_visits['device'].astype('category')"
   ]
  },
  {
   "cell_type": "code",
   "execution_count": 21,
   "id": "b56f7671",
   "metadata": {},
   "outputs": [
    {
     "name": "stdout",
     "output_type": "stream",
     "text": [
      "Valores Nulos em df_cost:\n",
      "id      0\n",
      "date    0\n",
      "cost    0\n",
      "dtype: int64\n",
      "\n",
      "Valores Nulos em df_orders:\n",
      "buy_date    0\n",
      "revenue     0\n",
      "uid         0\n",
      "dtype: int64\n",
      "\n",
      "Valores Nulos em df_visits:\n",
      "device        0\n",
      "end_date      0\n",
      "id            0\n",
      "start_date    0\n",
      "uid           0\n",
      "dtype: int64\n"
     ]
    }
   ],
   "source": [
    "# Verificação de Nulos \n",
    "print(\"Valores Nulos em df_cost:\")\n",
    "print(df_cost.isnull().sum())\n",
    "print(\"\\nValores Nulos em df_orders:\")\n",
    "print(df_orders.isnull().sum())\n",
    "print(\"\\nValores Nulos em df_visits:\")\n",
    "print(df_visits.isnull().sum())\n"
   ]
  },
  {
   "cell_type": "markdown",
   "id": "ad9a6115",
   "metadata": {},
   "source": [
    "\n",
    "### Processamento e Limpeza dos Dados\n",
    "\n",
    "Nesta fase inicial, os dados brutos foram preparados para a análise, garantindo sua qualidade e consistência. O processo foi dividido em três etapas principais:\n",
    "\n",
    "**1. Carga dos Dados:**\n",
    "*   Foram carregados três arquivos CSV: `visits_log_us.csv`, `orders_log_us.csv` e `costs_us.csv`, utilizando a biblioteca Pandas.\n",
    "\n",
    "**2. Limpeza e Adequação:**\n",
    "*   **Renomeação das Colunas:** Os nomes das colunas foram padronizados para facilitar o acesso e a manipulação (ex: `Uid` para `uid`, `Start Ts` para `start_date`).\n",
    "*   **Ajuste de Tipos:** Todas as colunas contendo datas e horas foram convertidas para o formato `datetime`, permitindo análises temporais precisas.\n",
    "*   **Otimização:** A coluna `device` foi convertida para o tipo `category` para otimizar o uso de memória.\n",
    "\n",
    "**3. Validação dos Dados:**\n",
    "*   **Verificação de Nulos e Duplicatas:** Foi realizada uma checagem final para confirmar a ausência de valores nulos ou linhas duplicadas em todos os conjuntos de dados. O resultado confirmou que os dados estão completos e íntegros.\n"
   ]
  },
  {
   "cell_type": "code",
   "execution_count": 24,
   "id": "19cd5141",
   "metadata": {},
   "outputs": [
    {
     "data": {
      "text/html": [
       "<div>\n",
       "<style scoped>\n",
       "    .dataframe tbody tr th:only-of-type {\n",
       "        vertical-align: middle;\n",
       "    }\n",
       "\n",
       "    .dataframe tbody tr th {\n",
       "        vertical-align: top;\n",
       "    }\n",
       "\n",
       "    .dataframe thead th {\n",
       "        text-align: right;\n",
       "    }\n",
       "</style>\n",
       "<table border=\"1\" class=\"dataframe\">\n",
       "  <thead>\n",
       "    <tr style=\"text-align: right;\">\n",
       "      <th></th>\n",
       "      <th>device</th>\n",
       "      <th>end_date</th>\n",
       "      <th>id</th>\n",
       "      <th>start_date</th>\n",
       "      <th>uid</th>\n",
       "      <th>acquisition_date</th>\n",
       "      <th>acquisition_cohort</th>\n",
       "      <th>buy_date</th>\n",
       "      <th>revenue</th>\n",
       "      <th>activity_month</th>\n",
       "      <th>order_month</th>\n",
       "      <th>monthly_total_cost</th>\n",
       "    </tr>\n",
       "  </thead>\n",
       "  <tbody>\n",
       "    <tr>\n",
       "      <th>0</th>\n",
       "      <td>touch</td>\n",
       "      <td>2017-12-20 17:38:00</td>\n",
       "      <td>4</td>\n",
       "      <td>2017-12-20 17:20:00</td>\n",
       "      <td>16879256277535980062</td>\n",
       "      <td>2017-12-20 17:20:00</td>\n",
       "      <td>2017-12</td>\n",
       "      <td>NaT</td>\n",
       "      <td>NaN</td>\n",
       "      <td>2017-12</td>\n",
       "      <td>NaT</td>\n",
       "      <td>38315.35</td>\n",
       "    </tr>\n",
       "    <tr>\n",
       "      <th>1</th>\n",
       "      <td>desktop</td>\n",
       "      <td>2018-02-19 17:21:00</td>\n",
       "      <td>2</td>\n",
       "      <td>2018-02-19 16:53:00</td>\n",
       "      <td>104060357244891740</td>\n",
       "      <td>2018-02-19 16:53:00</td>\n",
       "      <td>2018-02</td>\n",
       "      <td>NaT</td>\n",
       "      <td>NaN</td>\n",
       "      <td>2018-02</td>\n",
       "      <td>NaT</td>\n",
       "      <td>32723.03</td>\n",
       "    </tr>\n",
       "    <tr>\n",
       "      <th>2</th>\n",
       "      <td>touch</td>\n",
       "      <td>2017-07-01 01:54:00</td>\n",
       "      <td>5</td>\n",
       "      <td>2017-07-01 01:54:00</td>\n",
       "      <td>7459035603376831527</td>\n",
       "      <td>2017-07-01 01:54:00</td>\n",
       "      <td>2017-07</td>\n",
       "      <td>NaT</td>\n",
       "      <td>NaN</td>\n",
       "      <td>2017-07</td>\n",
       "      <td>NaT</td>\n",
       "      <td>18240.59</td>\n",
       "    </tr>\n",
       "    <tr>\n",
       "      <th>3</th>\n",
       "      <td>desktop</td>\n",
       "      <td>2018-05-20 11:23:00</td>\n",
       "      <td>9</td>\n",
       "      <td>2018-05-20 10:59:00</td>\n",
       "      <td>16174680259334210214</td>\n",
       "      <td>2018-03-09 20:05:00</td>\n",
       "      <td>2018-03</td>\n",
       "      <td>2018-03-09 20:25:00</td>\n",
       "      <td>2.33</td>\n",
       "      <td>2018-05</td>\n",
       "      <td>2018-03</td>\n",
       "      <td>22224.27</td>\n",
       "    </tr>\n",
       "    <tr>\n",
       "      <th>4</th>\n",
       "      <td>desktop</td>\n",
       "      <td>2017-12-27 14:06:00</td>\n",
       "      <td>3</td>\n",
       "      <td>2017-12-27 14:06:00</td>\n",
       "      <td>9969694820036681168</td>\n",
       "      <td>2017-12-27 14:06:00</td>\n",
       "      <td>2017-12</td>\n",
       "      <td>NaT</td>\n",
       "      <td>NaN</td>\n",
       "      <td>2017-12</td>\n",
       "      <td>NaT</td>\n",
       "      <td>38315.35</td>\n",
       "    </tr>\n",
       "  </tbody>\n",
       "</table>\n",
       "</div>"
      ],
      "text/plain": [
       "    device            end_date  id          start_date                   uid  \\\n",
       "0    touch 2017-12-20 17:38:00   4 2017-12-20 17:20:00  16879256277535980062   \n",
       "1  desktop 2018-02-19 17:21:00   2 2018-02-19 16:53:00    104060357244891740   \n",
       "2    touch 2017-07-01 01:54:00   5 2017-07-01 01:54:00   7459035603376831527   \n",
       "3  desktop 2018-05-20 11:23:00   9 2018-05-20 10:59:00  16174680259334210214   \n",
       "4  desktop 2017-12-27 14:06:00   3 2017-12-27 14:06:00   9969694820036681168   \n",
       "\n",
       "     acquisition_date acquisition_cohort            buy_date  revenue  \\\n",
       "0 2017-12-20 17:20:00            2017-12                 NaT      NaN   \n",
       "1 2018-02-19 16:53:00            2018-02                 NaT      NaN   \n",
       "2 2017-07-01 01:54:00            2017-07                 NaT      NaN   \n",
       "3 2018-03-09 20:05:00            2018-03 2018-03-09 20:25:00     2.33   \n",
       "4 2017-12-27 14:06:00            2017-12                 NaT      NaN   \n",
       "\n",
       "  activity_month order_month  monthly_total_cost  \n",
       "0        2017-12         NaT            38315.35  \n",
       "1        2018-02         NaT            32723.03  \n",
       "2        2017-07         NaT            18240.59  \n",
       "3        2018-05     2018-03            22224.27  \n",
       "4        2017-12         NaT            38315.35  "
      ]
     },
     "execution_count": 24,
     "metadata": {},
     "output_type": "execute_result"
    }
   ],
   "source": [
    "# --- Passo 1: Encontrar a primeira visita (Coorte de Aquisição) ---\n",
    "# Agrupa as visitas por usuário e pega a data da primeira sessão\n",
    "first_visits = df_visits.groupby('uid')['start_date'].min().reset_index()\n",
    "first_visits.columns = ['uid', 'acquisition_date']\n",
    "\n",
    "# Cria a coluna de coorte (formato YYYY-MM)\n",
    "first_visits['acquisition_cohort'] = first_visits['acquisition_date'].dt.to_period('M')\n",
    "\n",
    "\n",
    "# --- Passo 2: Juntar tudo em uma tabela final ---\n",
    "# Junta a coorte de aquisição com a tabela de visitas\n",
    "df_merged = pd.merge(df_visits, first_visits, on='uid')\n",
    "\n",
    "# Junta o resultado com a tabela de pedidos\n",
    "# Usamos 'left' para manter todas as visitas, mesmo as que não tiveram pedidos\n",
    "df_final = pd.merge(df_merged, df_orders, on='uid', how='left')\n",
    "\n",
    "\n",
    "# --- Passo 3: Criar colunas de data para análise ---\n",
    "# Cria a coluna do mês da atividade (visita ou pedido)\n",
    "df_final['activity_month'] = df_final['start_date'].dt.to_period('M')\n",
    "df_final['order_month'] = df_final['buy_date'].dt.to_period('M')\n",
    "\n",
    "\n",
    "# --- Passo 4: Juntar os custos ---\n",
    "# Agrega os custos por mês\n",
    "monthly_costs = df_cost.groupby(df_cost['date'].dt.to_period('M'))['cost'].sum().reset_index()\n",
    "monthly_costs.columns = ['activity_month', 'monthly_total_cost']\n",
    "\n",
    "# Junta os custos mensais à tabela final\n",
    "df_final = pd.merge(df_final, monthly_costs, on='activity_month', how='left')\n",
    "\n",
    "\n",
    "\n",
    "# Exibe as primeiras linhas da tabela final\n",
    "df_final.head()"
   ]
  }
 ],
 "metadata": {
  "kernelspec": {
   "display_name": "base",
   "language": "python",
   "name": "python3"
  },
  "language_info": {
   "codemirror_mode": {
    "name": "ipython",
    "version": 3
   },
   "file_extension": ".py",
   "mimetype": "text/x-python",
   "name": "python",
   "nbconvert_exporter": "python",
   "pygments_lexer": "ipython3",
   "version": "3.12.7"
  }
 },
 "nbformat": 4,
 "nbformat_minor": 5
}
